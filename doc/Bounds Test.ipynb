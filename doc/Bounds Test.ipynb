{
 "metadata": {
  "name": "",
  "signature": "sha256:f371a638101642b9f04da139f8ae20d72659991686607730593cd78dc3c6d13a"
 },
 "nbformat": 3,
 "nbformat_minor": 0,
 "worksheets": [
  {
   "cells": [
    {
     "cell_type": "markdown",
     "metadata": {},
     "source": [
      "Get simulated variants for 100 individuals with a 1e6 genome size"
     ]
    },
    {
     "cell_type": "code",
     "collapsed": false,
     "input": [
      "%%bash\n",
      "~/src/macs/macs \\\n",
      "    200 1e6 -T -t .001 -r .001 \\\n",
      "    > ~/data/genotq/sim/200.1e6.macs \\\n",
      "    2> /dev/null\n",
      "\n",
      "cat ~/data/genotq/sim/200.1e6.macs \\\n",
      "    | ~/src/genotq/sim/src/macs_hap_to_vari.py \\\n",
      "        > ~/data/genotq/sim/100.1e6.vari"
     ],
     "language": "python",
     "metadata": {},
     "outputs": [],
     "prompt_number": 12
    },
    {
     "cell_type": "markdown",
     "metadata": {},
     "source": [
      "Verify that there are 100 genotypes"
     ]
    },
    {
     "cell_type": "code",
     "collapsed": false,
     "input": [
      "%%bash\n",
      "\n",
      "head -n 1 ~/data/genotq/sim/100.1e6.vari | wc "
     ],
     "language": "python",
     "metadata": {},
     "outputs": [
      {
       "output_type": "stream",
       "stream": "stdout",
       "text": [
        "       1     100     200\n"
       ]
      }
     ],
     "prompt_number": 14
    },
    {
     "cell_type": "markdown",
     "metadata": {},
     "source": [
      "Check the size of the variant file"
     ]
    },
    {
     "cell_type": "code",
     "collapsed": false,
     "input": [
      "%%bash\n",
      "\n",
      "wc -l ~/data/genotq/sim/100.1e6.vari"
     ],
     "language": "python",
     "metadata": {},
     "outputs": [
      {
       "output_type": "stream",
       "stream": "stdout",
       "text": [
        "    5821 /Users/rl6sf/data/genotq/sim/100.1e6.vari\n"
       ]
      }
     ],
     "prompt_number": 15
    },
    {
     "cell_type": "code",
     "collapsed": false,
     "input": [
      "%%bash\n",
      "\n",
      "ls -l ~/data/genotq/sim/100.1e6.vari"
     ],
     "language": "python",
     "metadata": {},
     "outputs": [
      {
       "output_type": "stream",
       "stream": "stdout",
       "text": [
        "-rw-r--r--+ 1 rl6sf  staff  1164200 Apr 15 13:40 /Users/rl6sf/data/genotq/sim/100.1e6.vari\n"
       ]
      }
     ],
     "prompt_number": 16
    },
    {
     "cell_type": "code",
     "collapsed": false,
     "input": [],
     "language": "python",
     "metadata": {},
     "outputs": []
    }
   ],
   "metadata": {}
  }
 ]
}